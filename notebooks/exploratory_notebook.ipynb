{
 "cells": [
  {
   "cell_type": "code",
   "execution_count": 4,
   "metadata": {},
   "outputs": [],
   "source": [
    "import os\n",
    "import json\n",
    "import pandas as pd\n",
    "import pathlib\n",
    "\n",
    "current_location = pathlib.Path(os.path.abspath(''))"
   ]
  },
  {
   "cell_type": "code",
   "execution_count": 15,
   "metadata": {},
   "outputs": [],
   "source": [
    "credits_file = current_location.parent.joinpath('datasets', 'movies', 'tmdb_5000_credits.csv')\n",
    "movies_file = current_location.parent.joinpath('datasets', 'movies', 'tmdb_5000_movies.csv')"
   ]
  },
  {
   "cell_type": "code",
   "execution_count": 17,
   "metadata": {},
   "outputs": [
    {
     "name": "stdout",
     "output_type": "stream",
     "text": [
      "Already have files\n"
     ]
    }
   ],
   "source": [
    "if credits_file.is_file() and movies_file.is_file():\n",
    "    print('Already have files')\n",
    "else:\n",
    "    with open('/Users/ngreenlaw/Downloads/kaggle.json', 'r', encoding='utf-8') as f:\n",
    "        config = json.load(f)\n",
    "\n",
    "    os.environ['KAGGLE_USERNAME'] = config['username']\n",
    "    os.environ['KAGGLE_KEY'] = config['key']\n",
    "\n",
    "    import kaggle \n",
    "    \n",
    "    kaggle.api.authenticate()\n",
    "    kaggle.api.dataset_download_files(dataset=\"tmdb/tmdb-movie-metadata\", path='../datasets/movies', unzip=True)"
   ]
  },
  {
   "cell_type": "code",
   "execution_count": 29,
   "metadata": {},
   "outputs": [],
   "source": [
    "df_credits = pd.read_csv(credits_file)\n",
    "\n",
    "df_movies = pd.read_csv(movies_file)"
   ]
  },
  {
   "cell_type": "code",
   "execution_count": 23,
   "metadata": {},
   "outputs": [],
   "source": [
    "df['number_keywords'] = df.apply(lambda x: len(json.loads(x['keywords'])), axis=1)"
   ]
  },
  {
   "cell_type": "code",
   "execution_count": 34,
   "metadata": {},
   "outputs": [],
   "source": [
    "df['number_production_companies'] = df.apply(lambda x: len(json.loads(x['production_companies'])), axis=1)"
   ]
  },
  {
   "cell_type": "code",
   "execution_count": 31,
   "metadata": {},
   "outputs": [],
   "source": [
    "df = split_dictionary_columns(df, 'number_genres', 'genres', 'genre', 'name')"
   ]
  },
  {
   "cell_type": "code",
   "execution_count": 37,
   "metadata": {},
   "outputs": [],
   "source": [
    "df = split_dictionary_columns(df, 'number_production_companies', 'production_companies', 'production_company', 'name')"
   ]
  },
  {
   "cell_type": "code",
   "execution_count": 26,
   "metadata": {},
   "outputs": [],
   "source": [
    "def split_dictionary_columns(d, number_col, column_name, category, name):\n",
    "    d[number_col] = df.apply(lambda x: len(json.loads(x[column_name])), axis=1)\n",
    "    max_cat = df[number_col].max()\n",
    "    for i in range(1,max_cat+1):\n",
    "        gen = f'{category}_{i}'\n",
    "        d[gen] = d.apply(lambda x: None if i > x[number_col] else json.loads(x[column_name])[i-1][name], axis=1)\n",
    "    return d"
   ]
  },
  {
   "cell_type": "code",
   "execution_count": null,
   "metadata": {},
   "outputs": [],
   "source": []
  }
 ],
 "metadata": {
  "kernelspec": {
   "display_name": "Python 3",
   "language": "python",
   "name": "python3"
  },
  "language_info": {
   "codemirror_mode": {
    "name": "ipython",
    "version": 3
   },
   "file_extension": ".py",
   "mimetype": "text/x-python",
   "name": "python",
   "nbconvert_exporter": "python",
   "pygments_lexer": "ipython3",
   "version": "3.7.1"
  }
 },
 "nbformat": 4,
 "nbformat_minor": 2
}
